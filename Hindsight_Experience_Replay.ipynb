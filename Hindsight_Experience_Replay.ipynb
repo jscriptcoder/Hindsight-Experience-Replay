{
 "cells": [
  {
   "cell_type": "markdown",
   "metadata": {},
   "source": [
    "# Hindsight Experience Replay"
   ]
  },
  {
   "cell_type": "markdown",
   "metadata": {},
   "source": [
    "Paper this research is based on: https://arxiv.org/abs/1707.01495"
   ]
  },
  {
   "cell_type": "code",
   "execution_count": 1,
   "metadata": {},
   "outputs": [],
   "source": [
    "import torch\n",
    "import gym\n",
    "import gym.spaces\n",
    "import rocket_lander_gym\n",
    "import warnings\n",
    "from agent.config import Config\n",
    "from agent.td3_agent import TD3Agent\n",
    "from agent.utils import seed_all, plot_scores\n",
    "\n",
    "warnings.filterwarnings('ignore')"
   ]
  },
  {
   "cell_type": "code",
   "execution_count": 2,
   "metadata": {},
   "outputs": [],
   "source": [
    "# RocketLander-v0 | LunarLanderContinuous-v2\n",
    "env = gym.make('LunarLanderContinuous-v2')"
   ]
  },
  {
   "cell_type": "code",
   "execution_count": 3,
   "metadata": {},
   "outputs": [],
   "source": [
    "config = Config()\n",
    "\n",
    "config.seed = 0\n",
    "config.env = env\n",
    "config.env_solved = 200\n",
    "config.times_solved = 100\n",
    "config.buffer_size = int(1e6)\n",
    "config.batch_size = 32\n",
    "config.num_episodes = 2000\n",
    "config.num_updates = 1 \n",
    "config.max_steps = 2000\n",
    "config.max_steps_reward = None\n",
    "config.state_size = env.observation_space.shape[0]\n",
    "config.action_size = env.action_space.shape[0]\n",
    "config.gamma = 0.99\n",
    "config.tau = 1e-34\n",
    "config.lr_actor = 1e-4\n",
    "config.lr_critic = 1e-3\n",
    "config.hidden_actor = (64, 64)\n",
    "config.hidden_critic = (64, 64)\n",
    "config.activ_actor = torch.nn.ReLU()\n",
    "config.activ_critic = torch.nn.ReLU()\n",
    "config.optim_actor = torch.optim.Adam\n",
    "config.optim_critic = torch.optim.Adam\n",
    "config.grad_clip_actor = None\n",
    "config.grad_clip_critic = None\n",
    "config.use_huber_loss = False\n",
    "config.update_every = 1\n",
    "config.use_ou_noise = False\n",
    "config.ou_mu = 0.0\n",
    "config.ou_theta = 0.15\n",
    "config.ou_sigma = 0.2\n",
    "config.expl_noise = 0.1\n",
    "config.noise_weight = 1.0\n",
    "config.decay_noise = False\n",
    "config.use_linear_decay = False\n",
    "config.noise_linear_decay = 1e-6\n",
    "config.noise_decay = 0.99\n",
    "config.log_every = 100\n",
    "config.policy_noise = 0.1\n",
    "config.noise_clip = 0.1\n",
    "config.policy_freq_update = 2\n",
    "config.log_std_min=-20\n",
    "config.log_std_max=2"
   ]
  },
  {
   "cell_type": "code",
   "execution_count": 4,
   "metadata": {},
   "outputs": [],
   "source": [
    "seed_all(config.seed, env)"
   ]
  },
  {
   "cell_type": "code",
   "execution_count": 5,
   "metadata": {},
   "outputs": [],
   "source": [
    "agent = TD3Agent(config)"
   ]
  },
  {
   "cell_type": "code",
   "execution_count": 6,
   "metadata": {},
   "outputs": [
    {
     "name": "stdout",
     "output_type": "stream",
     "text": [
      "TD3 Agent:\n",
      "==========\n",
      "\n",
      "Actor Network:\n",
      "--------------\n",
      "Actor(\n",
      "  (activ): ReLU()\n",
      "  (layers): ModuleList(\n",
      "    (0): Linear(in_features=8, out_features=64, bias=True)\n",
      "    (1): Linear(in_features=64, out_features=64, bias=True)\n",
      "    (2): Linear(in_features=64, out_features=2, bias=True)\n",
      "  )\n",
      ")\n",
      "\n",
      "Critic Network:\n",
      "---------------\n",
      "Critic(\n",
      "  (activ): ReLU()\n",
      "  (layers): ModuleList(\n",
      "    (0): Linear(in_features=10, out_features=64, bias=True)\n",
      "    (1): Linear(in_features=64, out_features=64, bias=True)\n",
      "    (2): Linear(in_features=64, out_features=1, bias=True)\n",
      "  )\n",
      ")\n",
      "\n",
      "Twin Network:\n",
      "-------------\n",
      "Critic(\n",
      "  (activ): ReLU()\n",
      "  (layers): ModuleList(\n",
      "    (0): Linear(in_features=10, out_features=64, bias=True)\n",
      "    (1): Linear(in_features=64, out_features=64, bias=True)\n",
      "    (2): Linear(in_features=64, out_features=1, bias=True)\n",
      "  )\n",
      ")\n"
     ]
    }
   ],
   "source": [
    "agent.summary()"
   ]
  },
  {
   "cell_type": "code",
   "execution_count": null,
   "metadata": {},
   "outputs": [
    {
     "name": "stdout",
     "output_type": "stream",
     "text": [
      "Episode 16\tAvg Score: -248.57\tAvg Actor Loss: 2.91\tAvg Critic Loss: 172.61"
     ]
    }
   ],
   "source": [
    "scores = agent.train()"
   ]
  },
  {
   "cell_type": "code",
   "execution_count": null,
   "metadata": {},
   "outputs": [],
   "source": [
    "plot_scores(scores, polyfit_deg=6)"
   ]
  },
  {
   "cell_type": "code",
   "execution_count": null,
   "metadata": {},
   "outputs": [],
   "source": []
  }
 ],
 "metadata": {
  "kernelspec": {
   "display_name": "Python 3",
   "language": "python",
   "name": "python3"
  },
  "language_info": {
   "codemirror_mode": {
    "name": "ipython",
    "version": 3
   },
   "file_extension": ".py",
   "mimetype": "text/x-python",
   "name": "python",
   "nbconvert_exporter": "python",
   "pygments_lexer": "ipython3",
   "version": "3.7.6"
  }
 },
 "nbformat": 4,
 "nbformat_minor": 4
}
