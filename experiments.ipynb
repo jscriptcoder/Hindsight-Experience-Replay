{
 "cells": [
  {
   "cell_type": "code",
   "execution_count": 4,
   "metadata": {},
   "outputs": [],
   "source": [
    "import gym\n",
    "import gym.spaces\n",
    "import warnings\n",
    "import rocket_lander_gym\n",
    "import torch\n",
    "import numpy as np\n",
    "from common.lunar_lander_wrapper import LunarLanderWrapper\n",
    "from common.config import Config\n",
    "from common.utils import seed_all\n",
    "from agent.dqn import DQNAgent\n",
    " \n",
    "warnings.filterwarnings('ignore')"
   ]
  },
  {
   "cell_type": "code",
   "execution_count": 5,
   "metadata": {},
   "outputs": [],
   "source": [
    "gym_env = gym.make(\"LunarLander-v2\") "
   ]
  },
  {
   "cell_type": "code",
   "execution_count": 6,
   "metadata": {},
   "outputs": [],
   "source": [
    "config = Config()\n",
    "\n",
    "config.state_size = gym_env.observation_space.shape[0]\n",
    "config.action_size = gym_env.action_space.n\n",
    "config.goal_size = config.state_size-2\n",
    "config.batch_size = 64\n",
    "config.max_steps = 500\n",
    "config.gamma = 0.99\n",
    "config.tau = 1e-2\n",
    "config.episodes = 10000\n",
    "config.lr = 1e-3\n",
    "config.eps_start = 0.2\n",
    "config.eps_decay = 1.\n",
    "config.eps_end = 0.1\n",
    "config.use_her = True\n",
    "config.use_double = True"
   ]
  },
  {
   "cell_type": "code",
   "execution_count": 7,
   "metadata": {},
   "outputs": [],
   "source": [
    "seed_all(0)"
   ]
  },
  {
   "cell_type": "code",
   "execution_count": 5,
   "metadata": {},
   "outputs": [],
   "source": [
    "# env = LunarLanderWrapper(gym_env, config.use_her)"
   ]
  },
  {
   "cell_type": "code",
   "execution_count": 8,
   "metadata": {},
   "outputs": [],
   "source": [
    "agent = DQNAgent(config)"
   ]
  },
  {
   "cell_type": "code",
   "execution_count": 9,
   "metadata": {},
   "outputs": [
    {
     "data": {
      "text/plain": [
       "<All keys matched successfully>"
      ]
     },
     "execution_count": 9,
     "metadata": {},
     "output_type": "execute_result"
    }
   ],
   "source": [
    "agent.qn_local.load_state_dict(torch.load('best_weights.pth'))"
   ]
  },
  {
   "cell_type": "code",
   "execution_count": 17,
   "metadata": {},
   "outputs": [
    {
     "name": "stdout",
     "output_type": "stream",
     "text": [
      "Simulation done.\n"
     ]
    }
   ],
   "source": [
    "state = gym_env.reset()\n",
    "goal = np.array([0.5, 0., 0., 0., 0., 0.])\n",
    "\n",
    "while True:\n",
    "    gym_env.render()\n",
    "    action = agent.act(state, goal)\n",
    "    state, reward, done, info = gym_env.step(action)\n",
    "\n",
    "    if done:\n",
    "        print(\"Simulation done.\")\n",
    "        break\n",
    "\n",
    "gym_env.close()"
   ]
  },
  {
   "cell_type": "code",
   "execution_count": null,
   "metadata": {},
   "outputs": [],
   "source": []
  }
 ],
 "metadata": {
  "kernelspec": {
   "display_name": "Python 3",
   "language": "python",
   "name": "python3"
  },
  "language_info": {
   "codemirror_mode": {
    "name": "ipython",
    "version": 3
   },
   "file_extension": ".py",
   "mimetype": "text/x-python",
   "name": "python",
   "nbconvert_exporter": "python",
   "pygments_lexer": "ipython3",
   "version": "3.7.6"
  }
 },
 "nbformat": 4,
 "nbformat_minor": 4
}
