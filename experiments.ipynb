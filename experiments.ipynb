{
 "cells": [
  {
   "cell_type": "code",
   "execution_count": 33,
   "metadata": {},
   "outputs": [],
   "source": [
    "import gym\n",
    "import gym.spaces\n",
    "import warnings\n",
    "import torch\n",
    "import rocket_lander_gym\n",
    "import numpy as np\n",
    "from common.lunar_lander_wrapper import LunarLanderWrapper\n",
    "from common.config import Config\n",
    "from common.utils import seed_all\n",
    "from agent.dqn import DQNAgent\n",
    " \n",
    "warnings.filterwarnings('ignore')"
   ]
  },
  {
   "cell_type": "code",
   "execution_count": 34,
   "metadata": {},
   "outputs": [],
   "source": [
    "gym_env = gym.make(\"LunarLander-v2\") "
   ]
  },
  {
   "cell_type": "code",
   "execution_count": 35,
   "metadata": {},
   "outputs": [],
   "source": [
    "config = Config()\n",
    "\n",
    "config.state_size = gym_env.observation_space.shape[0]\n",
    "config.action_size = gym_env.action_space.n\n",
    "config.goal_size = config.state_size-2\n",
    "config.episodes = 5000\n",
    "config.max_steps = 1000\n",
    "config.buffer_size = int(1e6)\n",
    "config.batch_size = 64\n",
    "config.gamma = 0.99\n",
    "config.tau = 1e-3\n",
    "config.update_every = 1\n",
    "config.use_double = True\n",
    "config.use_huber_loss = False\n",
    "config.lr = 5e-4\n",
    "config.eps_start = 0.2\n",
    "config.eps_decay = 0.9995\n",
    "config.eps_end = 0.1\n",
    "config.use_her = True\n",
    "config.future_k = 8\n",
    "config.dist_tolerance = 0.1\n",
    "config.dense_reward = True\n",
    "config.times_eval = 100\n",
    "config.eval_every = 20"
   ]
  },
  {
   "cell_type": "code",
   "execution_count": 36,
   "metadata": {},
   "outputs": [],
   "source": [
    "seed_all(0)"
   ]
  },
  {
   "cell_type": "code",
   "execution_count": 37,
   "metadata": {},
   "outputs": [],
   "source": [
    "# env = LunarLanderWrapper(gym_env, config.use_her)"
   ]
  },
  {
   "cell_type": "code",
   "execution_count": 38,
   "metadata": {},
   "outputs": [],
   "source": [
    "agent = DQNAgent(config)"
   ]
  },
  {
   "cell_type": "code",
   "execution_count": 39,
   "metadata": {},
   "outputs": [
    {
     "data": {
      "text/plain": [
       "<All keys matched successfully>"
      ]
     },
     "execution_count": 39,
     "metadata": {},
     "output_type": "execute_result"
    }
   ],
   "source": [
    "agent.qn_local.load_state_dict(torch.load('best_weights.pth'))"
   ]
  },
  {
   "cell_type": "code",
   "execution_count": 43,
   "metadata": {},
   "outputs": [
    {
     "name": "stdout",
     "output_type": "stream",
     "text": [
      "Simulation done.\n"
     ]
    }
   ],
   "source": [
    "state = gym_env.reset()\n",
    "# goal = np.array([0.8, 0.5, 0., 0., 0., 0.])\n",
    "goal = np.array([0., 0.8, 0., 0., 0., 0.])\n",
    "# goal = np.array([-0.5, 0.8, 0., 0., 0., 0.])\n",
    "# goal = np.array([-0.5, 0.5, 0., 0., 0., 0.])\n",
    "# goal = np.array([0., -0.05, 0., 0., 0., 0.])\n",
    "\n",
    "while True:\n",
    "    gym_env.render()\n",
    "    action = agent.act(state, goal)\n",
    "    state, reward, done, info = gym_env.step(action)\n",
    "\n",
    "    if done:\n",
    "        print(\"Simulation done.\")\n",
    "        break\n",
    "\n",
    "gym_env.close()"
   ]
  },
  {
   "cell_type": "code",
   "execution_count": null,
   "metadata": {},
   "outputs": [],
   "source": []
  }
 ],
 "metadata": {
  "kernelspec": {
   "display_name": "Python 3",
   "language": "python",
   "name": "python3"
  },
  "language_info": {
   "codemirror_mode": {
    "name": "ipython",
    "version": 3
   },
   "file_extension": ".py",
   "mimetype": "text/x-python",
   "name": "python",
   "nbconvert_exporter": "python",
   "pygments_lexer": "ipython3",
   "version": "3.7.6"
  }
 },
 "nbformat": 4,
 "nbformat_minor": 4
}
