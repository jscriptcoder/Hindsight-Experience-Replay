{
 "cells": [
  {
   "cell_type": "code",
   "execution_count": 1,
   "metadata": {},
   "outputs": [],
   "source": [
    "from gym_unity.envs import UnityToGymWrapper\n",
    "from mlagents_envs.environment import UnityEnvironment\n",
    "from mlagents_envs.side_channel.engine_configuration_channel import EngineConfigurationChannel\n",
    "import numpy as np"
   ]
  },
  {
   "cell_type": "code",
   "execution_count": 3,
   "metadata": {},
   "outputs": [
    {
     "name": "stderr",
     "output_type": "stream",
     "text": [
      "2020-06-19 16:33:42 INFO [environment.py:107] Connected to Unity environment with package version 1.1.0-preview and communication version 1.0.0\n",
      "2020-06-19 16:33:42 INFO [environment.py:265] Connected new brain:\n",
      "PushBlock?team=0\n",
      "2020-06-19 16:33:42 WARNING [__init__.py:91] The environment contains multiple observations. You must define allow_multiple_obs=True to receive them all. Otherwise, only the first visual observation (or vector observation ifthere are no visual observations) will be provided in the observation.\n",
      "/anaconda3/envs/pytorch/lib/python3.8/site-packages/gym/logger.py:30: UserWarning: \u001b[33mWARN: Box bound precision lowered by casting to float32\u001b[0m\n",
      "  warnings.warn(colorize('%s: %s'%('WARN', msg % args), 'yellow'))\n"
     ]
    }
   ],
   "source": [
    "channel = EngineConfigurationChannel()\n",
    "unity_env = UnityEnvironment(file_name='./envs/PushBlock.app', side_channels=[channel], )\n",
    "env = UnityToGymWrapper(unity_env)"
   ]
  },
  {
   "cell_type": "code",
   "execution_count": 13,
   "metadata": {},
   "outputs": [
    {
     "data": {
      "text/plain": [
       "7"
      ]
     },
     "execution_count": 13,
     "metadata": {},
     "output_type": "execute_result"
    }
   ],
   "source": [
    "env.action_space.nvec[0]"
   ]
  },
  {
   "cell_type": "code",
   "execution_count": null,
   "metadata": {},
   "outputs": [],
   "source": [
    "env.observation_space."
   ]
  },
  {
   "cell_type": "code",
   "execution_count": 41,
   "metadata": {},
   "outputs": [],
   "source": [
    "channel.set_configuration_parameters(time_scale = 20.0)"
   ]
  },
  {
   "cell_type": "code",
   "execution_count": 52,
   "metadata": {},
   "outputs": [
    {
     "data": {
      "text/plain": [
       "array([0.        , 0.        , 0.        , 1.        , 1.        ,\n",
       "       0.        , 0.        , 0.        , 1.        , 1.        ,\n",
       "       0.        , 0.        , 0.        , 1.        , 1.        ,\n",
       "       0.        , 0.        , 0.        , 1.        , 1.        ,\n",
       "       0.        , 0.        , 0.        , 1.        , 1.        ,\n",
       "       0.        , 0.        , 0.        , 1.        , 1.        ,\n",
       "       0.        , 0.        , 0.        , 1.        , 1.        ,\n",
       "       0.        , 0.        , 0.        , 1.        , 1.        ,\n",
       "       0.        , 0.        , 0.        , 1.        , 1.        ,\n",
       "       0.        , 0.        , 0.        , 1.        , 1.        ,\n",
       "       0.        , 0.        , 0.        , 1.        , 1.        ,\n",
       "       0.        , 0.        , 0.        , 1.        , 1.        ,\n",
       "       0.        , 0.        , 0.        , 1.        , 1.        ,\n",
       "       0.        , 0.        , 0.        , 1.        , 1.        ,\n",
       "       0.        , 0.        , 0.        , 1.        , 1.        ,\n",
       "       0.        , 0.        , 0.        , 1.        , 1.        ,\n",
       "       0.        , 0.        , 0.        , 1.        , 1.        ,\n",
       "       0.        , 0.        , 0.        , 1.        , 1.        ,\n",
       "       0.        , 0.        , 0.        , 1.        , 1.        ,\n",
       "       0.        , 0.        , 0.        , 1.        , 1.        ,\n",
       "       0.        , 0.        , 0.        , 1.        , 1.        ,\n",
       "       0.        , 0.        , 0.        , 1.        , 1.        ,\n",
       "       0.        , 0.        , 0.        , 1.        , 1.        ,\n",
       "       1.        , 0.        , 0.        , 0.        , 0.5694757 ,\n",
       "       0.        , 1.        , 0.        , 0.        , 0.39389512,\n",
       "       0.        , 0.        , 0.        , 1.        , 1.        ,\n",
       "       0.        , 1.        , 0.        , 0.        , 0.22741733,\n",
       "       0.        , 0.        , 0.        , 1.        , 1.        ,\n",
       "       0.        , 0.        , 0.        , 1.        , 1.        ,\n",
       "       0.        , 0.        , 0.        , 1.        , 1.        ,\n",
       "       0.        , 0.        , 0.        , 1.        , 1.        ,\n",
       "       0.        , 0.        , 0.        , 1.        , 1.        ,\n",
       "       1.        , 0.        , 0.        , 0.        , 0.17978501,\n",
       "       0.        , 1.        , 0.        , 0.        , 0.7350785 ,\n",
       "       1.        , 0.        , 0.        , 0.        , 0.20490034,\n",
       "       0.        , 0.        , 1.        , 0.        , 0.8312804 ,\n",
       "       0.        , 0.        , 1.        , 0.        , 0.71991295,\n",
       "       0.        , 0.        , 0.        , 1.        , 1.        ,\n",
       "       0.        , 1.        , 0.        , 0.        , 0.50870675,\n",
       "       1.        , 0.        , 0.        , 0.        , 0.46113876,\n",
       "       0.        , 1.        , 0.        , 0.        , 0.29370436,\n",
       "       0.        , 0.        , 0.        , 1.        , 1.        ],\n",
       "      dtype=float32)"
      ]
     },
     "execution_count": 52,
     "metadata": {},
     "output_type": "execute_result"
    }
   ],
   "source": [
    "env.reset()"
   ]
  },
  {
   "cell_type": "code",
   "execution_count": 54,
   "metadata": {},
   "outputs": [
    {
     "name": "stdout",
     "output_type": "stream",
     "text": [
      "Last state:\n",
      "\n",
      " [0.         0.         1.         0.         0.05743155 0.\n",
      " 0.         1.         0.         0.07378926 0.         0.\n",
      " 1.         0.         0.06010693 0.         0.         1.\n",
      " 0.         0.16546947 0.         0.         1.         0.\n",
      " 0.08802911 0.         0.         1.         0.         0.23594017\n",
      " 0.         0.         1.         0.         0.32526603 0.\n",
      " 0.         1.         0.         0.05742711 0.         0.\n",
      " 1.         0.         0.06013247 0.         0.         1.\n",
      " 0.         0.07380185 0.         0.         1.         0.\n",
      " 0.08804923 0.         0.         1.         0.         0.16525722\n",
      " 0.         0.         1.         0.         0.23594508 0.\n",
      " 0.         0.         1.         1.         0.         0.\n",
      " 1.         0.         0.04803265 0.         0.         1.\n",
      " 0.         0.05033881 0.         0.         1.         0.\n",
      " 0.06174846 0.         0.         1.         0.         0.07359132\n",
      " 0.         0.         1.         0.         0.13830125 0.\n",
      " 0.         1.         0.         0.1845495  0.         0.\n",
      " 0.         1.         1.         0.         0.         1.\n",
      " 0.         0.015164   0.         0.         1.         0.\n",
      " 0.01949458 0.         0.         1.         0.         0.01589194\n",
      " 0.         0.         1.         0.         0.04366405 0.\n",
      " 0.         1.         0.         0.02323227 0.         0.\n",
      " 1.         0.         0.19366418 0.         0.         1.\n",
      " 0.         0.08599451 0.         0.         1.         0.\n",
      " 0.01516393 0.         0.         1.         0.         0.01589204\n",
      " 0.         0.         1.         0.         0.01949425 0.\n",
      " 0.         1.         0.         0.02323281 0.         0.\n",
      " 1.         0.         0.04366172 0.         0.         1.\n",
      " 0.         0.08600369 0.         0.         0.         1.\n",
      " 1.         0.         0.         1.         0.         0.00670597\n",
      " 0.         0.         1.         0.         0.00702795 0.\n",
      " 0.         1.         0.         0.00862098 0.         0.\n",
      " 1.         0.         0.01027427 0.         0.         1.\n",
      " 0.         0.01930859 0.         0.         1.         0.\n",
      " 0.03803355 0.         0.         0.         1.         1.        ]\n",
      "\n",
      "\n",
      "Score: -0.9999999310821295\n"
     ]
    }
   ],
   "source": [
    "score = 0\n",
    "while True:\n",
    "    action = env.action_space.sample()\n",
    "    observation, reward, done, info = env.step(action)\n",
    "    score += reward\n",
    "    if done:\n",
    "        print('Last state:\\n\\n', observation)\n",
    "        break\n",
    "\n",
    "print('\\n\\nScore: ' + str(score))"
   ]
  },
  {
   "cell_type": "code",
   "execution_count": 55,
   "metadata": {},
   "outputs": [
    {
     "name": "stderr",
     "output_type": "stream",
     "text": [
      "2020-06-19 15:24:54 INFO [environment.py:418] Environment shut down with return code 0.\n"
     ]
    }
   ],
   "source": [
    "env.close()"
   ]
  },
  {
   "cell_type": "code",
   "execution_count": null,
   "metadata": {},
   "outputs": [],
   "source": []
  }
 ],
 "metadata": {
  "kernelspec": {
   "display_name": "Python 3",
   "language": "python",
   "name": "python3"
  },
  "language_info": {
   "codemirror_mode": {
    "name": "ipython",
    "version": 3
   },
   "file_extension": ".py",
   "mimetype": "text/x-python",
   "name": "python",
   "nbconvert_exporter": "python",
   "pygments_lexer": "ipython3",
   "version": "3.8.2"
  }
 },
 "nbformat": 4,
 "nbformat_minor": 4
}
