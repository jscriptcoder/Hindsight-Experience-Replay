{
 "cells": [
  {
   "cell_type": "code",
   "execution_count": 1,
   "metadata": {},
   "outputs": [],
   "source": [
    "import gym\n",
    "import gym.spaces\n",
    "import warnings\n",
    "import rocket_lander_gym\n",
    "from common.lunar_lander_wrapper import LunarLanderWrapper\n",
    "from common.config import Config\n",
    "from common.utils import seed_all\n",
    "from agent.dqn import DQNAgent\n",
    "\n",
    "warnings.filterwarnings(\"ignore\")"
   ]
  },
  {
   "cell_type": "code",
   "execution_count": 2,
   "metadata": {},
   "outputs": [],
   "source": [
    "gym_env = gym.make(\"LunarLander-v2\") "
   ]
  },
  {
   "cell_type": "code",
   "execution_count": 3,
   "metadata": {},
   "outputs": [],
   "source": [
    "config = Config()\n",
    "\n",
    "config.batch_size = 128\n",
    "config.gamma = 0.99\n",
    "config.tau = 0.95\n",
    "config.epochs = 200\n",
    "config.cycles = 50\n",
    "config.episodes = 16\n",
    "config.optims = 40\n",
    "config.max_steps = 1000\n",
    "config.future_k = 1\n",
    "config.state_size = gym_env.observation_space.shape[0]\n",
    "config.action_size = gym_env.action_space.n\n",
    "config.goal_size = config.state_size\n",
    "config.lr = 5e-4\n",
    "config.eps_start = 1.0\n",
    "config.eps_end = 0.1\n",
    "config.eps_decay = 0.995\n",
    "config.use_her = True\n",
    "config.use_double = False\n",
    "config.use_huber_loss = False"
   ]
  },
  {
   "cell_type": "code",
   "execution_count": 4,
   "metadata": {},
   "outputs": [],
   "source": [
    "seed_all(0)"
   ]
  },
  {
   "cell_type": "code",
   "execution_count": 5,
   "metadata": {},
   "outputs": [],
   "source": [
    "env = LunarLanderWrapper(gym_env, config.use_her)"
   ]
  },
  {
   "cell_type": "code",
   "execution_count": 6,
   "metadata": {},
   "outputs": [],
   "source": [
    "agent = DQNAgent(config)"
   ]
  },
  {
   "cell_type": "code",
   "execution_count": null,
   "metadata": {},
   "outputs": [
    {
     "name": "stdout",
     "output_type": "stream",
     "text": [
      "Training on cuda:0\n",
      "epoch: 1, exploration: 100.00%, avg score: -2.153\n",
      "epoch: 2, exploration: 99.50%, avg score: -2.166\n",
      "epoch: 3, exploration: 99.00%, avg score: -2.156\n",
      "epoch: 4, exploration: 98.51%, avg score: -2.160\n",
      "epoch: 5, exploration: 98.01%, avg score: -2.170\n",
      "epoch: 6, exploration: 97.52%, avg score: -2.166\n",
      "epoch: 7, exploration: 97.04%, avg score: -2.149\n",
      "epoch: 8, exploration: 96.55%, avg score: -2.132\n",
      "epoch: 9, exploration: 96.07%, avg score: -2.155\n",
      "epoch: 10, exploration: 95.59%, avg score: -2.161\n",
      "epoch: 11, exploration: 95.11%, avg score: -2.145\n",
      "epoch: 12, exploration: 94.64%, avg score: -2.153\n",
      "epoch: 13, exploration: 94.16%, avg score: -2.128\n",
      "epoch: 14, exploration: 93.69%, avg score: -2.140\n",
      "epoch: 15, exploration: 93.22%, avg score: -2.112\n",
      "epoch: 16, exploration: 92.76%, avg score: -2.137\n",
      "epoch: 17, exploration: 92.29%, avg score: -2.109\n",
      "epoch: 18, exploration: 91.83%, avg score: -2.133\n",
      "epoch: 19, exploration: 91.37%, avg score: -2.127\n",
      "epoch: 20, exploration: 90.92%, avg score: -2.104\n",
      "epoch: 21, exploration: 90.46%, avg score: -2.133\n",
      "epoch: 22, exploration: 90.01%, avg score: -2.113\n",
      "epoch: 23, exploration: 89.56%, avg score: -2.131\n",
      "epoch: 24, exploration: 89.11%, avg score: -2.136\n",
      "epoch: 25, exploration: 88.67%, avg score: -2.104\n",
      "epoch: 26, exploration: 88.22%, avg score: -2.110\n",
      "epoch: 27, exploration: 87.78%, avg score: -2.097\n",
      "epoch: 28, exploration: 87.34%, avg score: -2.106\n",
      "epoch: 29, exploration: 86.91%, avg score: -2.100\n",
      "epoch: 30, exploration: 86.47%, avg score: -2.126\n",
      "epoch: 31, exploration: 86.04%, avg score: -2.122\n",
      "epoch: 32, exploration: 85.61%, avg score: -2.121\n",
      "epoch: 33, exploration: 85.18%, avg score: -2.109\n",
      "epoch: 34, exploration: 84.75%, avg score: -2.111\n",
      "epoch: 35, exploration: 84.33%, avg score: -2.104\n",
      "epoch: 36, exploration: 83.91%, avg score: -2.117\n",
      "epoch: 37, exploration: 83.49%, avg score: -2.110\n",
      "epoch: 38, exploration: 83.07%, avg score: -2.114\n",
      "epoch: 39, exploration: 82.66%, avg score: -2.117\n",
      "epoch: 40, exploration: 82.24%, avg score: -2.120\n",
      "epoch: 41, exploration: 81.83%, avg score: -2.115\n",
      "epoch: 42, exploration: 81.42%, avg score: -2.118\n",
      "epoch: 43, exploration: 81.02%, avg score: -2.122\n",
      "epoch: 44, exploration: 80.61%, avg score: -2.088\n",
      "epoch: 45, exploration: 80.21%, avg score: -2.104\n",
      "epoch: 46, exploration: 79.81%, avg score: -2.129\n",
      "epoch: 47, exploration: 79.41%, avg score: -2.150\n",
      "epoch: 48, exploration: 79.01%, avg score: -2.121\n",
      "epoch: 49, exploration: 78.62%, avg score: -2.133\n",
      "epoch: 50, exploration: 78.22%, avg score: -2.135\n",
      "epoch: 51, exploration: 77.83%, avg score: -2.135\n",
      "epoch: 52, exploration: 77.44%, avg score: -2.114\n",
      "epoch: 53, exploration: 77.05%, avg score: -2.140\n",
      "epoch: 54, exploration: 76.67%, avg score: -2.145\n",
      "epoch: 55, exploration: 76.29%, avg score: -2.135\n",
      "epoch: 56, exploration: 75.90%, avg score: -2.128\n",
      "epoch: 57, exploration: 75.53%, avg score: -2.138\n",
      "epoch: 58, exploration: 75.15%, avg score: -2.146\n"
     ]
    }
   ],
   "source": [
    "agent.train(env)"
   ]
  },
  {
   "cell_type": "code",
   "execution_count": null,
   "metadata": {},
   "outputs": [],
   "source": []
  }
 ],
 "metadata": {
  "kernelspec": {
   "display_name": "Python 3",
   "language": "python",
   "name": "python3"
  },
  "language_info": {
   "codemirror_mode": {
    "name": "ipython",
    "version": 3
   },
   "file_extension": ".py",
   "mimetype": "text/x-python",
   "name": "python",
   "nbconvert_exporter": "python",
   "pygments_lexer": "ipython3",
   "version": "3.7.6"
  }
 },
 "nbformat": 4,
 "nbformat_minor": 4
}
